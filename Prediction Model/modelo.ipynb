{
 "cells": [
  {
   "cell_type": "markdown",
   "metadata": {},
   "source": [
    "# Football prediction model"
   ]
  },
  {
   "cell_type": "code",
   "execution_count": 31,
   "metadata": {},
   "outputs": [],
   "source": [
    "import pandas as pd\n",
    "import matplotlib.pyplot as plt\n",
    "import numpy as np\n",
    "import seaborn\n",
    "from scipy.stats import poisson,skellam\n",
    "import datetime as dt\n",
    "import warnings\n",
    "warnings.filterwarnings('ignore')\n",
    "\n",
    "from sklearn.metrics import accuracy_score\n",
    "from sklearn.model_selection import train_test_split\n",
    "from sklearn.metrics import confusion_matrix\n",
    "from sklearn.metrics import classification_report\n",
    "\n",
    "import statsmodels.api as sm\n",
    "import statsmodels.formula.api as smf"
   ]
  },
  {
   "cell_type": "code",
   "execution_count": 18,
   "metadata": {},
   "outputs": [],
   "source": [
    "torneos=['FIFA World Cup qualification', 'UEFA Euro qualification',\n",
    "       'African Cup of Nations qualification', 'AFC Asian Cup qualification',\n",
    "       'African Cup of Nations', 'CFU Caribbean Cup qualification',\n",
    "       'FIFA World Cup',  'UEFA Nations League', 'Gold Cup',\n",
    "       'Copa América',  'AFF Championship',\n",
    "       'UEFA Euro', 'African Nations Championship', 'AFC Asian Cup',\n",
    "       'CONCACAF Nations League']"
   ]
  },
  {
   "cell_type": "markdown",
   "metadata": {},
   "source": [
    "# 1. Calcular ELO"
   ]
  },
  {
   "cell_type": "markdown",
   "metadata": {},
   "source": [
    "## 1.1 Funciones ELO"
   ]
  },
  {
   "cell_type": "code",
   "execution_count": 19,
   "metadata": {},
   "outputs": [],
   "source": [
    "confederation_tournaments=['AFC Asian Cup','African Cup of Nations','UEFA Euro','Copa América','CONCACAF Championship','Oceania Nations Cup']\n",
    "\n",
    "def k_value(tournament):\n",
    "    k=5\n",
    "    if tournament == 'Friendly':\n",
    "        k=10\n",
    "    elif tournament == 'FIFA World Cup qualification':\n",
    "        k=25\n",
    "    elif tournament in confederation_tournaments:\n",
    "        k=40\n",
    "    elif tournament == 'FIFA World Cup':\n",
    "        k=55\n",
    "    return k\n",
    "    \n",
    "def expected_result(loc,aw):\n",
    "    dr=loc-aw\n",
    "    we=(1/(10**(-dr/400)+1))\n",
    "    return [np.round(we,3),1-np.round(we,3)]\n",
    "\n",
    "def actual_result(loc,aw):\n",
    "    if loc<aw:\n",
    "        wa=1\n",
    "        wl=0\n",
    "    elif loc>aw:\n",
    "        wa=0\n",
    "        wl=1\n",
    "    elif loc==aw:\n",
    "        wa=0.5\n",
    "        wl=0.5\n",
    "    return [wl,wa]\n",
    "\n",
    "def calculate_elo(elo_l,elo_v,local_goals,away_goals,tournament):\n",
    "    \n",
    "    k=k_value(tournament)\n",
    "    wl,wv=actual_result(local_goals,away_goals)\n",
    "    wel,wev=expected_result(elo_l,elo_v)\n",
    "\n",
    "    elo_ln=elo_l+k*(wl-wel)\n",
    "    elo_vn=elo_v+k*(wv-wev)\n",
    "\n",
    "    return elo_ln,elo_vn"
   ]
  },
  {
   "cell_type": "markdown",
   "metadata": {},
   "source": [
    "## 1.2 Calculate ELO"
   ]
  },
  {
   "cell_type": "code",
   "execution_count": 20,
   "metadata": {},
   "outputs": [],
   "source": [
    "matches = pd.read_csv(\"results.csv\").sort_values('date')\n",
    "\n",
    "matches[\"Elo_h_before\"]=np.nan\n",
    "matches[\"Elo_a_before\"]=np.nan\n",
    "\n",
    "matches[\"Elo_h_after\"]=np.nan\n",
    "matches[\"Elo_a_after\"]=np.nan\n",
    "\n",
    "current_elo={}\n",
    "for idx,row in matches.iterrows():\n",
    "    \n",
    "    local=row['home_team']\n",
    "    away=row['away_team']\n",
    "    local_goals=row['home_score']\n",
    "    away_goals=row['away_score']\n",
    "    tournament = row['tournament']\n",
    "    \n",
    "    # Si el equipo no se le ha calculado el ELO, se le inicializa en 1300\n",
    "    if local not in current_elo.keys():\n",
    "        current_elo[local]=1300\n",
    "    \n",
    "    if away not in current_elo.keys():\n",
    "        current_elo[away]=1300\n",
    "    \n",
    "    elo_l=current_elo[local]\n",
    "    elo_v=current_elo[away]\n",
    "    elo_ln,elo_vn=calculate_elo(elo_l,elo_v,local_goals,away_goals,tournament)\n",
    "\n",
    "    current_elo[local]=elo_ln\n",
    "    current_elo[away]=elo_vn\n",
    "    \n",
    "    matches.loc[idx,'Elo_h_after']=elo_ln\n",
    "    matches.loc[idx,'Elo_a_after']=elo_vn \n",
    "    matches.loc[idx,'Elo_h_before']=elo_l\n",
    "    matches.loc[idx,'Elo_a_before']=elo_v"
   ]
  },
  {
   "cell_type": "markdown",
   "metadata": {},
   "source": [
    "# 2. Build model"
   ]
  },
  {
   "cell_type": "markdown",
   "metadata": {},
   "source": [
    "## 2.1 Filter dataframe "
   ]
  },
  {
   "cell_type": "code",
   "execution_count": 21,
   "metadata": {},
   "outputs": [],
   "source": [
    "\n",
    "matches=matches[(pd.to_datetime(matches['date'])>dt.datetime(1989,12,31))&(matches['tournament'].isin(torneos))]\n",
    "matches =matches[['date','home_team','away_team','home_score','away_score','neutral','Elo_a_before','Elo_h_before']]\n",
    "matches = matches[(matches['home_score']<9)&(matches['away_score']<9)].reset_index(drop=True)\n",
    "matches[\"Match Name\"]= matches[\"home_team\"].astype(str) + ' - ' + matches[\"away_team\"].astype(str)\n",
    "\n",
    "home=matches[[\"date\",\"home_team\",\"home_score\",\"away_score\",\"neutral\",\"Match Name\",\"Elo_a_before\",\"Elo_h_before\"]].rename(columns={'home_team':\"Team\",\"home_score\":\"Goals for\",\"away_score\":\"Goals against\",\"Elo_a_before\":\"Elo rival\",\"Elo_h_before\":\"Elo\"}).assign(local=1)\n",
    "away=matches[[\"date\",\"away_team\",\"away_score\",\"home_score\",\"Match Name\",\"Elo_a_before\",\"Elo_h_before\"]].rename(columns={'away_team':\"Team\",\"away_score\":\"Goals for\",\"home_score\":\"Goals against\",\"Elo_a_before\":\"Elo\",\"Elo_h_before\":\"Elo rival\"}).assign(neutral=0).assign(local=0)\n",
    "\n",
    "df = pd.concat([home,away],ignore_index=True).sort_values(\"date\").reset_index(drop=True)\n",
    "\n",
    "df[\"Moving goals for\"]=df.groupby('Team')['Goals for'].transform(lambda x: x.rolling(3).mean()).shift()\n",
    "df[\"Moving goals against\"]=df.groupby('Team')['Goals against'].transform(lambda x: x.rolling(3).mean()).shift()\n",
    "\n",
    "df[\"Moving goals for\"]=df.groupby(\"Team\")[\"Moving goals for\"].shift()\n",
    "df[\"Moving goals against\"]=df.groupby(\"Team\")[\"Moving goals against\"].shift()\n",
    "df=df.dropna()"
   ]
  },
  {
   "cell_type": "markdown",
   "metadata": {},
   "source": [
    "## 2.2 Get data from teams going to world cup"
   ]
  },
  {
   "cell_type": "code",
   "execution_count": 22,
   "metadata": {},
   "outputs": [],
   "source": [
    "# Data from world cup teams\n",
    "Teams=df.drop_duplicates(keep='last',subset='Team')\n",
    "wc_teams=[\"Qatar\",\"Ecuador\",\"Senegal\",\"Netherlands\",\"England\",\"Iran\",\"United States\",\"Wales\",\"Argentina\",\"Saudi Arabia\",\"Mexico\",\"Poland\",\"France\",\"Australia\",\"Denmark\",\"Tunisia\",\n",
    "\"Spain\",\"Costa Rica\",\"Germany\",\"Japan\",\"Belgium\",\"Canada\",\"Morocco\",\"Croatia\",\"Brazil\",\"Serbia\",\"Switzerland\",\"Cameroon\",\"Portugal\",\"Ghana\",\"Uruguay\",\"South Korea\"\n",
    "]\n",
    "Teams=Teams.loc[Teams[\"Team\"].isin(wc_teams),[\"Team\",\"Moving goals for\",\"Moving goals against\",\"Elo\"]].reset_index(drop=True)\n"
   ]
  },
  {
   "cell_type": "code",
   "execution_count": 23,
   "metadata": {},
   "outputs": [],
   "source": [
    "#Teams.to_excel(\"WorldCup2022_Teams.xlsx\")"
   ]
  },
  {
   "cell_type": "markdown",
   "metadata": {},
   "source": [
    "## 2.3 Shaping data in necessary format"
   ]
  },
  {
   "cell_type": "code",
   "execution_count": 24,
   "metadata": {},
   "outputs": [],
   "source": [
    "home=df.loc[df[\"local\"]==1,[\"date\",\"Team\",\"Goals for\",\"neutral\",\"Match Name\",\"Moving goals for\",\"Moving goals against\",\"Elo\"]].rename(columns={\"Team\":\"Home team\",\"Goals for\":\"home_score\",\"Moving goals for\":\"Mov_score_for_home\",\"Moving goals against\":\"Mov_score_against_home\",\"Elo\":\"Elo_home\"})\n",
    "away=df.loc[df[\"local\"]==0,[\"date\",\"Team\",\"Goals for\",\"Match Name\",\"Moving goals for\",\"Moving goals against\",\"Elo\"]].rename(columns={\"Team\":\"Away team\",\"Goals for\":\"away_score\",\"Moving goals for\":\"Mov_score_for_away\",\"Moving goals against\":\"Mov_score_against_away\",\"Elo\":\"Elo_away\"})\n",
    "home_away=home.merge(away,how='inner',on=[\"date\",\"Match Name\"])\n",
    "\n",
    "home_tr=home_away[[\"Home team\",\"home_score\",\"neutral\",\"Mov_score_for_home\",\"Mov_score_against_home\",\"Mov_score_for_away\",\"Mov_score_against_away\",\"Elo_home\",\"Elo_away\"]].rename(columns={\n",
    "    \"Home team\":\"Team\",\"home_score\":\"Goals\",\"Mov_score_for_home\":\"mov_score_for\",\"Mov_score_against_home\":\"mov_score_against\",\"Mov_score_for_away\":\"mov_score_for_rival\",\"Mov_score_against_away\":\"mov_score_against_rival\",\n",
    "    \"Elo_home\":\"Elo\",\"Elo_away\":\"Elo_rival\"\n",
    "})\n",
    "away_tr=home_away[[\"Away team\",\"away_score\",\"neutral\",\"Mov_score_for_home\",\"Mov_score_against_home\",\"Mov_score_for_away\",\"Mov_score_against_away\",\"Elo_home\",\"Elo_away\"]].rename(columns={\n",
    "    \"Away team\":\"Team\",\"away_score\":\"Goals\",\"Mov_score_for_home\":\"mov_score_for_rival\",\"Mov_score_against_home\":\"mov_score_against_rival\",\"Mov_score_for_away\":\"mov_score_for\",\"Mov_score_against_away\":\"mov_score_against\",\n",
    "    \"Elo_home\":\"Elo_rival\",\"Elo_away\":\"Elo\"\n",
    "})\n",
    "\n",
    "home_tr[\"home\"]=home_tr[\"neutral\"].apply(lambda x: 1 if x==0 else 0)\n",
    "away_tr[\"home\"]=0\n",
    "\n",
    "home_tr=home_tr.drop(columns=\"neutral\")\n",
    "away_tr=away_tr.drop(columns=\"neutral\")"
   ]
  },
  {
   "cell_type": "markdown",
   "metadata": {},
   "source": [
    "## 2.4 Creating training dataframe and training model"
   ]
  },
  {
   "cell_type": "code",
   "execution_count": 25,
   "metadata": {},
   "outputs": [
    {
     "data": {
      "text/html": [
       "<table class=\"simpletable\">\n",
       "<caption>Generalized Linear Model Regression Results</caption>\n",
       "<tr>\n",
       "  <th>Dep. Variable:</th>         <td>Goals</td>      <th>  No. Observations:  </th>  <td> 26280</td> \n",
       "</tr>\n",
       "<tr>\n",
       "  <th>Model:</th>                  <td>GLM</td>       <th>  Df Residuals:      </th>  <td> 26274</td> \n",
       "</tr>\n",
       "<tr>\n",
       "  <th>Model Family:</th>         <td>Poisson</td>     <th>  Df Model:          </th>  <td>     5</td> \n",
       "</tr>\n",
       "<tr>\n",
       "  <th>Link Function:</th>          <td>Log</td>       <th>  Scale:             </th> <td>  1.0000</td>\n",
       "</tr>\n",
       "<tr>\n",
       "  <th>Method:</th>                <td>IRLS</td>       <th>  Log-Likelihood:    </th> <td> -38272.</td>\n",
       "</tr>\n",
       "<tr>\n",
       "  <th>Date:</th>            <td>Tue, 08 Nov 2022</td> <th>  Deviance:          </th> <td>  32877.</td>\n",
       "</tr>\n",
       "<tr>\n",
       "  <th>Time:</th>                <td>19:07:43</td>     <th>  Pearson chi2:      </th> <td>3.11e+04</td>\n",
       "</tr>\n",
       "<tr>\n",
       "  <th>No. Iterations:</th>          <td>5</td>        <th>  Pseudo R-squ. (CS):</th>  <td>0.2777</td> \n",
       "</tr>\n",
       "<tr>\n",
       "  <th>Covariance Type:</th>     <td>nonrobust</td>    <th>                     </th>     <td> </td>   \n",
       "</tr>\n",
       "</table>\n",
       "<table class=\"simpletable\">\n",
       "<tr>\n",
       "             <td></td>                <th>coef</th>     <th>std err</th>      <th>z</th>      <th>P>|z|</th>  <th>[0.025</th>    <th>0.975]</th>  \n",
       "</tr>\n",
       "<tr>\n",
       "  <th>Intercept</th>               <td>   -0.0273</td> <td>    0.017</td> <td>   -1.632</td> <td> 0.103</td> <td>   -0.060</td> <td>    0.006</td>\n",
       "</tr>\n",
       "<tr>\n",
       "  <th>home</th>                    <td>    0.3338</td> <td>    0.011</td> <td>   31.435</td> <td> 0.000</td> <td>    0.313</td> <td>    0.355</td>\n",
       "</tr>\n",
       "<tr>\n",
       "  <th>mov_score_for</th>           <td>    0.0222</td> <td>    0.006</td> <td>    3.610</td> <td> 0.000</td> <td>    0.010</td> <td>    0.034</td>\n",
       "</tr>\n",
       "<tr>\n",
       "  <th>mov_score_against</th>       <td>    0.0297</td> <td>    0.006</td> <td>    5.224</td> <td> 0.000</td> <td>    0.019</td> <td>    0.041</td>\n",
       "</tr>\n",
       "<tr>\n",
       "  <th>mov_score_against_rival</th> <td>    0.0114</td> <td>    0.005</td> <td>    2.134</td> <td> 0.033</td> <td>    0.001</td> <td>    0.022</td>\n",
       "</tr>\n",
       "<tr>\n",
       "  <th>Elo_diff</th>                <td>    0.0025</td> <td> 2.85e-05</td> <td>   86.918</td> <td> 0.000</td> <td>    0.002</td> <td>    0.003</td>\n",
       "</tr>\n",
       "</table>"
      ],
      "text/plain": [
       "<class 'statsmodels.iolib.summary.Summary'>\n",
       "\"\"\"\n",
       "                 Generalized Linear Model Regression Results                  \n",
       "==============================================================================\n",
       "Dep. Variable:                  Goals   No. Observations:                26280\n",
       "Model:                            GLM   Df Residuals:                    26274\n",
       "Model Family:                 Poisson   Df Model:                            5\n",
       "Link Function:                    Log   Scale:                          1.0000\n",
       "Method:                          IRLS   Log-Likelihood:                -38272.\n",
       "Date:                Tue, 08 Nov 2022   Deviance:                       32877.\n",
       "Time:                        19:07:43   Pearson chi2:                 3.11e+04\n",
       "No. Iterations:                     5   Pseudo R-squ. (CS):             0.2777\n",
       "Covariance Type:            nonrobust                                         \n",
       "===========================================================================================\n",
       "                              coef    std err          z      P>|z|      [0.025      0.975]\n",
       "-------------------------------------------------------------------------------------------\n",
       "Intercept                  -0.0273      0.017     -1.632      0.103      -0.060       0.006\n",
       "home                        0.3338      0.011     31.435      0.000       0.313       0.355\n",
       "mov_score_for               0.0222      0.006      3.610      0.000       0.010       0.034\n",
       "mov_score_against           0.0297      0.006      5.224      0.000       0.019       0.041\n",
       "mov_score_against_rival     0.0114      0.005      2.134      0.033       0.001       0.022\n",
       "Elo_diff                    0.0025   2.85e-05     86.918      0.000       0.002       0.003\n",
       "===========================================================================================\n",
       "\"\"\""
      ]
     },
     "execution_count": 25,
     "metadata": {},
     "output_type": "execute_result"
    }
   ],
   "source": [
    "training=home_tr.append(away_tr,ignore_index=True)\n",
    "training[\"Elo_diff\"]=training[\"Elo\"]-training[\"Elo_rival\"]\n",
    "\n",
    "poisson_model = smf.glm(formula=\"Goals ~ home + mov_score_for + mov_score_against + mov_score_against_rival + Elo_diff\", data=training, \n",
    "                        family=sm.families.Poisson()).fit()\n",
    "poisson_model.summary()"
   ]
  },
  {
   "cell_type": "code",
   "execution_count": 26,
   "metadata": {},
   "outputs": [],
   "source": [
    "#poisson_model.save(\"international_model.pickle\")"
   ]
  },
  {
   "cell_type": "code",
   "execution_count": 27,
   "metadata": {},
   "outputs": [],
   "source": [
    "def simulate_match(model,G_local,G_perm_local, G_visitante,G_perm_vis,home, elo_h,elo_a,max_goals=5):\n",
    "    elo_diff=elo_h-elo_a\n",
    "    if home==1:\n",
    "        home_goals_avg = model.predict(pd.DataFrame(data={'mov_score_for': G_local,  'mov_score_against': G_perm_local,'mov_score_against_rival':G_perm_vis,'home':1,\"Elo_diff\":elo_diff},index=[1])).values[0]\n",
    "    else:\n",
    "        home_goals_avg = model.predict(pd.DataFrame(data={'mov_score_for': G_local,  'mov_score_against': G_perm_local,'mov_score_against_rival':G_perm_vis,'home':0,\"Elo_diff\":elo_diff},index=[1])).values[0]\n",
    "    \n",
    "    away_goals_avg = model.predict(pd.DataFrame(data={'mov_score_for': G_visitante,  'mov_score_against': G_perm_vis,'mov_score_against_rival':G_perm_local,'home':0,\"Elo_diff\":-elo_diff},index=[1])).values[0]\n",
    "\n",
    "    team_pred = [[poisson.pmf(i, team_avg) for i in range(0, max_goals+1)] for team_avg in [home_goals_avg, away_goals_avg]]\n",
    "    return(np.outer(np.array(team_pred[0]), np.array(team_pred[1])))"
   ]
  },
  {
   "cell_type": "code",
   "execution_count": 28,
   "metadata": {},
   "outputs": [],
   "source": [
    "def probabilidad(model,G_local,G_perm_local, G_visitante,G_perm_vis,home,elo_h,elo_a):\n",
    "    mill_tol = simulate_match(model,G_local,G_perm_local, G_visitante,G_perm_vis,home,elo_h,elo_a)\n",
    "    series=pd.Series([1-np.sum(np.triu(mill_tol, 1))-np.sum(np.diag(mill_tol)),np.sum(np.diag(mill_tol)),np.sum(np.triu(mill_tol, 1))],index=['Local','Empate','Visitante'])\n",
    "    return series"
   ]
  },
  {
   "cell_type": "code",
   "execution_count": 29,
   "metadata": {},
   "outputs": [],
   "source": [
    "def winner(model,G_local,G_perm_local, G_visitante,G_perm_vis,home,elo_h,elo_a):\n",
    "    prob = probabilidad(model,G_local,G_perm_local, G_visitante,G_perm_vis,home,elo_h,elo_a)\n",
    "    dif = abs(prob[\"Local\"]-prob[\"Visitante\"])\n",
    "    if (dif < 0.08):\n",
    "        return 1\n",
    "    else:\n",
    "        return prob.argmax()\n",
    "    "
   ]
  },
  {
   "cell_type": "code",
   "execution_count": 30,
   "metadata": {},
   "outputs": [],
   "source": [
    "home_away[\"home\"]=home_away[\"neutral\"].apply(lambda x: 1 if x==0 else 0)\n",
    "home_away=home_away.drop(columns=\"neutral\")\n",
    "home_away[\"result\"]=home_away.apply(lambda x: 0 if x[\"home_score\"]>x[\"away_score\"] else (1 if x[\"home_score\"]==x[\"away_score\"] else 2),axis=1)\n",
    "home_away[\"predicted\"]=home_away[[\"Mov_score_for_home\",\"Mov_score_against_home\",\"Mov_score_for_away\",\"Mov_score_against_away\",\"home\",\"Elo_home\",\"Elo_away\"]].apply(lambda x: winner(poisson_model,x[0],x[1],x[2],x[3],x[4],x[5],x[6]),axis=1)"
   ]
  },
  {
   "cell_type": "code",
   "execution_count": 32,
   "metadata": {},
   "outputs": [
    {
     "name": "stdout",
     "output_type": "stream",
     "text": [
      "              precision    recall  f1-score   support\n",
      "\n",
      "       Local       0.67      0.78      0.72      6492\n",
      "      Empate       0.27      0.16      0.20      2878\n",
      "   Visitante       0.57      0.59      0.58      3770\n",
      "\n",
      "    accuracy                           0.59     13140\n",
      "   macro avg       0.51      0.51      0.50     13140\n",
      "weighted avg       0.56      0.59      0.57     13140\n",
      "\n"
     ]
    }
   ],
   "source": [
    "print(classification_report(home_away[\"result\"], home_away[\"predicted\"], target_names=[\"Local\",\"Empate\",\"Visitante\"]))"
   ]
  },
  {
   "cell_type": "code",
   "execution_count": 36,
   "metadata": {},
   "outputs": [
    {
     "name": "stdout",
     "output_type": "stream",
     "text": [
      "Accuracy: 59.13 %\n"
     ]
    }
   ],
   "source": [
    "acc=(home_away[\"predicted\"]==home_away['result']).mean()\n",
    "print(f\"Accuracy: {np.round(acc*100,2)} %\")"
   ]
  }
 ],
 "metadata": {
  "kernelspec": {
   "display_name": "Python 3.9.12 ('base')",
   "language": "python",
   "name": "python3"
  },
  "language_info": {
   "codemirror_mode": {
    "name": "ipython",
    "version": 3
   },
   "file_extension": ".py",
   "mimetype": "text/x-python",
   "name": "python",
   "nbconvert_exporter": "python",
   "pygments_lexer": "ipython3",
   "version": "3.9.12"
  },
  "orig_nbformat": 4,
  "vscode": {
   "interpreter": {
    "hash": "7a629f88739bb99df36ee3169b5f674a3a3506dd75f237fb1b2703d7911537b3"
   }
  }
 },
 "nbformat": 4,
 "nbformat_minor": 2
}
